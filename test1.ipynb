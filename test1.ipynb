{
 "cells": [
  {
   "cell_type": "code",
   "execution_count": 2,
   "metadata": {},
   "outputs": [],
   "source": [
    "import re\n",
    "import csv\n",
    "import requests\n",
    "from bs4 import BeautifulSoup\n",
    "import pandas as pd\n",
    "\n",
    "# Code to scrap the weather data\n",
    "url=\"https://www.timeanddate.com/weather/india/chennai/historic\"\n",
    "page= requests.get(url)\n",
    "soup=BeautifulSoup(page.text,'html.parser')\n",
    "data=[]\n",
    "data2=[]\n",
    "table=soup.find_all('table')[1]\n",
    "for item in table.find_all('td'):\n",
    "    data.append(item.get_text())\n",
    "    \n",
    "for item in table.find_all('span'):\n",
    "    data2.append(item.get('title')) \n",
    "    \n",
    "dir=[d for d in data2 if d!=None]\n",
    "temp=data[1::8]\n",
    "weat=data[2::8]\n",
    "wind=data[3::8]\n",
    "hum=data[5::8]\n",
    "bar=data[6::8]\n",
    "vis=data[7::8]\n",
    "temperature=[(t[:2])+'\\u00B0'+'F' for t in temp]\n",
    "visibility=[(v[:1])+'mi' for v in vis]\n",
    "#barometer=[(b[:5])+b[-3:] for b in bar]\n",
    "barometer=[i+'\\u0022'+j[1:] for i,j in [b.split( ) for b in bar]]\n",
    "wind1=[str(int(w.split(' ')[0]))+'mph'  if w[0]!='N' else 'Nowind' for w in wind]\n",
    "weather=[w.replace(\" \",\"\") for w in weat]\n",
    "wt_hist=pd.DataFrame(\n",
    "    {'Temp': temperature,\n",
    "     'Weather': weather,\n",
    "     'Wind': wind1,\n",
    "     'Direction': dir,\n",
    "     'Humidity': hum,\n",
    "     'Barometer': barometer,\n",
    "     'Visibility': visibility,\n",
    "    })\n",
    "\n",
    "#form the dataframe and put it in csv\n",
    "wt_hist.to_csv(r'data.csv',index=None,header=True,columns=['Temp','Weather','Wind','Direction','Humidity','Barometer','Visibility'])\n",
    "\n"
   ]
  },
  {
   "cell_type": "code",
   "execution_count": 4,
   "metadata": {},
   "outputs": [
    {
     "data": {
      "text/plain": [
       "Temp          object\n",
       "Weather       object\n",
       "Wind          object\n",
       "Direction     object\n",
       "Humidity      object\n",
       "Barometer     object\n",
       "Visibility    object\n",
       "dtype: object"
      ]
     },
     "execution_count": 4,
     "metadata": {},
     "output_type": "execute_result"
    }
   ],
   "source": [
    "wt_hist.dtypes"
   ]
  },
  {
   "cell_type": "code",
   "execution_count": null,
   "metadata": {},
   "outputs": [],
   "source": []
  }
 ],
 "metadata": {
  "kernelspec": {
   "display_name": "Python 3",
   "language": "python",
   "name": "python3"
  },
  "language_info": {
   "codemirror_mode": {
    "name": "ipython",
    "version": 3
   },
   "file_extension": ".py",
   "mimetype": "text/x-python",
   "name": "python",
   "nbconvert_exporter": "python",
   "pygments_lexer": "ipython3",
   "version": "3.7.3"
  }
 },
 "nbformat": 4,
 "nbformat_minor": 2
}
